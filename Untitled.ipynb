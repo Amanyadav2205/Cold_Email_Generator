{
 "cells": [
  {
   "cell_type": "code",
   "execution_count": null,
   "id": "e60b6bd8-dbde-4b13-851f-3e372c914b22",
   "metadata": {},
   "outputs": [],
   "source": []
  }
 ],
 "metadata": {
  "kernelspec": {
   "display_name": "",
   "name": ""
  },
  "language_info": {
   "name": ""
  }
 },
 "nbformat": 4,
 "nbformat_minor": 5
}
